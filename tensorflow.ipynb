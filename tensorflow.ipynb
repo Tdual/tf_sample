{
 "cells": [
  {
   "cell_type": "code",
   "execution_count": 4,
   "metadata": {
    "collapsed": true
   },
   "outputs": [],
   "source": [
    "import tensorflow as tf"
   ]
  },
  {
   "cell_type": "code",
   "execution_count": 3,
   "metadata": {
    "collapsed": false
   },
   "outputs": [
    {
     "name": "stdout",
     "output_type": "stream",
     "text": [
      "Tensor(\"MatMul:0\", shape=(3, 1), dtype=int32)\n"
     ]
    }
   ],
   "source": [
    "w = [[1,2,3],[4,5,6],[7,8,9]]\n",
    "x = [[1],[2],[3]]\n",
    "\n",
    "W = tf.Variable(w, \"int32\")\n",
    "X = tf.Variable(x, \"int32\")\n",
    "\n",
    "\n",
    "y = tf.matmul(W,x)\n",
    "print (y)"
   ]
  },
  {
   "cell_type": "code",
   "execution_count": 4,
   "metadata": {
    "collapsed": false,
    "scrolled": false
   },
   "outputs": [
    {
     "name": "stdout",
     "output_type": "stream",
     "text": [
      "[[14]\n",
      " [32]\n",
      " [50]]\n"
     ]
    }
   ],
   "source": [
    "with tf.Session() as sess:\n",
    "    sess.run(tf.initialize_all_variables())\n",
    "    result = sess.run(y)\n",
    "print (result)"
   ]
  },
  {
   "cell_type": "code",
   "execution_count": 5,
   "metadata": {
    "collapsed": false,
    "scrolled": true
   },
   "outputs": [
    {
     "name": "stdout",
     "output_type": "stream",
     "text": [
      "[[14]\n",
      " [32]\n",
      " [50]],[[0]\n",
      " [0]\n",
      " [0]],[[ 6]\n",
      " [15]\n",
      " [24]]\n"
     ]
    }
   ],
   "source": [
    "w = [[1,2,3],[4,5,6],[7,8,9]]\n",
    "x0 = [[1],[2],[3]]\n",
    "x1 = [[0],[0],[0]]\n",
    "x2 = [[1],[1],[1]]\n",
    "vectors =[x0,x1,x2]\n",
    "\n",
    "W = tf.Variable(w, \"int32\")\n",
    "x_ph = tf.placeholder(\"int32\", [3,1])\n",
    "\n",
    "y2 = tf.matmul(W, x_ph)\n",
    "\n",
    "result_list = []\n",
    "with tf.Session() as sess2:\n",
    "    sess2.run(tf.initialize_all_variables())\n",
    "    for v in vectors:\n",
    "        result_list.append(sess2.run(y2,feed_dict={x_ph: v}))\n",
    "\n",
    "print (\"{},{},{}\".format(*result_list))"
   ]
  },
  {
   "cell_type": "markdown",
   "metadata": {},
   "source": [
    "### 学習内容 ###\n",
    "- ねこ　ー＞　にゃーん\n",
    "- いぬ　ー＞　わんわん\n",
    "- うさぎ　ー＞　・・・。\n",
    "\n",
    "を学習させる。\n"
   ]
  },
  {
   "cell_type": "code",
   "execution_count": 6,
   "metadata": {
    "collapsed": false
   },
   "outputs": [],
   "source": [
    "cat = [[1.],[0.],[0.]]\n",
    "dog = [[0.],[1.],[0.]]\n",
    "rabbit= [[0.],[0.],[1.]]\n",
    "\n",
    "nyan =  [[1.],[0.],[0.]]\n",
    "wan =  [[0.],[1.],[0.]]\n",
    "silent = [[0.],[0.],[1.]]\n",
    "\n",
    "data_set = [(cat,nyan)]*500 +[(dog,wan)]*500+[(rabbit, silent)]*500\n",
    "data_set\n",
    "import random\n",
    "random.shuffle(data_set)"
   ]
  },
  {
   "cell_type": "code",
   "execution_count": 7,
   "metadata": {
    "collapsed": false
   },
   "outputs": [
    {
     "name": "stdout",
     "output_type": "stream",
     "text": [
      "0回目のエラー関数の値: 0.9604000449180603\n",
      "100回目のエラー関数の値: 0.24312268197536469\n",
      "200回目のエラー関数の値: 0.06154582276940346\n",
      "300回目のエラー関数の値: 0.0168914757668972\n",
      "400回目のエラー関数の値: 0.004276030231267214\n",
      "500回目のエラー関数の値: 0.0009209252893924713\n",
      "600回目のエラー関数の値: 0.00021503098832909018\n",
      "700回目のエラー関数の値: 5.4434622143162414e-05\n",
      "800回目のエラー関数の値: 1.1723699572030455e-05\n",
      "900回目のエラー関数の値: 1.1723699572030455e-05\n",
      "1000回目のエラー関数の値: 1.754865138536843e-06\n",
      "1100回目のエラー関数の値: 2.9659747724508634e-07\n",
      "1200回目のエラー関数の値: 1.4927196900771378e-07\n",
      "1300回目のエラー関数の値: 2.7279302372562597e-08\n",
      "1400回目のエラー関数の値: 6.923585260665277e-09\n"
     ]
    }
   ],
   "source": [
    "w = [[0.,0.,0.],[0.,0.,0.],[0.,0.,0.]]\n",
    "W = tf.Variable(w, \"float\")\n",
    "x = tf.placeholder(tf.float32, [3,1])\n",
    "y = tf.matmul(W,x)\n",
    "y_ = tf.placeholder(tf.float32, [3,1])\n",
    "\n",
    "cost = tf.reduce_sum(tf.pow(y - y_, 2))\n",
    "\n",
    "train_step = tf.train.GradientDescentOptimizer(0.01).minimize(cost)\n",
    "\n",
    "\n",
    "with tf.Session() as sess:\n",
    "    sess.run(tf.initialize_all_variables())\n",
    "    for i in range(len(data_set)):\n",
    "        sess.run(train_step, feed_dict={x: data_set[i][0], y_: data_set[i][1]})\n",
    "        if i % 100 == 0:\n",
    "            error = sess.run(cost,feed_dict={x: data_set[i][0], y_: data_set[i][1]})\n",
    "            print (\"{}回目のエラー関数の値: {}\".format(i,error))\n",
    "    w_result = sess.run(W)\n"
   ]
  },
  {
   "cell_type": "code",
   "execution_count": 8,
   "metadata": {
    "collapsed": false
   },
   "outputs": [
    {
     "data": {
      "text/plain": [
       "array([[ 0.99995899],\n",
       "       [ 0.        ],\n",
       "       [ 0.        ]])"
      ]
     },
     "execution_count": 8,
     "metadata": {},
     "output_type": "execute_result"
    }
   ],
   "source": [
    "import numpy as np\n",
    "\n",
    "np.dot(w_result, cat)"
   ]
  },
  {
   "cell_type": "code",
   "execution_count": 9,
   "metadata": {
    "collapsed": false
   },
   "outputs": [
    {
     "data": {
      "text/plain": [
       "array([[ 0.        ],\n",
       "       [ 0.99995899],\n",
       "       [ 0.        ]])"
      ]
     },
     "execution_count": 9,
     "metadata": {},
     "output_type": "execute_result"
    }
   ],
   "source": [
    "np.dot(w_result, dog)"
   ]
  },
  {
   "cell_type": "code",
   "execution_count": 10,
   "metadata": {
    "collapsed": false
   },
   "outputs": [
    {
     "data": {
      "text/plain": [
       "array([[ 0.        ],\n",
       "       [ 0.        ],\n",
       "       [ 0.99995899]])"
      ]
     },
     "execution_count": 10,
     "metadata": {},
     "output_type": "execute_result"
    }
   ],
   "source": [
    "np.dot(w_result, rabbit)"
   ]
  },
  {
   "cell_type": "code",
   "execution_count": 11,
   "metadata": {
    "collapsed": false,
    "scrolled": true
   },
   "outputs": [
    {
     "name": "stdout",
     "output_type": "stream",
     "text": [
      "[[ 0.99995899  0.          0.        ]\n",
      " [ 0.          0.99995899  0.        ]\n",
      " [ 0.          0.          0.99995899]]\n"
     ]
    }
   ],
   "source": [
    "print(w_result)"
   ]
  },
  {
   "cell_type": "markdown",
   "metadata": {},
   "source": [
    "### 学習内容 ###\n",
    "- サイン　ー＞　sin関数の図を出す\n",
    "- コサイン　ー＞　cos関数の図を出す\n",
    "- タンジェント　ー＞　tan関数の図を出す\n",
    "\n",
    "を学習させる。"
   ]
  },
  {
   "cell_type": "code",
   "execution_count": 12,
   "metadata": {
    "collapsed": false
   },
   "outputs": [
    {
     "data": {
      "image/png": "[encoded data removed]",
      "text/plain": [
       "<matplotlib.figure.Figure at 0x11d8264e0>"
      ]
     },
     "metadata": {},
     "output_type": "display_data"
    }
   ],
   "source": [
    "%matplotlib inline\n",
    "import matplotlib.pylab as plt\n",
    "x = np.linspace(-np.pi, np.pi, 400)\n",
    "y = np.sin(x)\n",
    "plt.plot(x, y)\n",
    "plt.show()"
   ]
  },
  {
   "cell_type": "code",
   "execution_count": 13,
   "metadata": {
    "collapsed": true
   },
   "outputs": [],
   "source": [
    "import random\n",
    "import numpy as np\n",
    "x_data = np.linspace(-np.pi, np.pi, 400)\n",
    "\n",
    "sin = [[1.],[0.],[0.]]\n",
    "cos = [[0.],[1.],[0.]]\n",
    "tan = [[0.],[0.],[1.]]\n",
    "\n",
    "\n",
    "sin_r = np.reshape(np.sin(x_data),(400,1))\n",
    "cos_r = np.reshape(np.cos(x_data),(400,1))\n",
    "tan_r = np.reshape(np.tan(x_data),(400,1))\n",
    "\n",
    "data_set = [(sin, sin_r)]*50 +[(cos ,cos_r)]*50+[(tan, tan_r)]*50\n",
    "random.shuffle(data_set)"
   ]
  },
  {
   "cell_type": "code",
   "execution_count": 14,
   "metadata": {
    "collapsed": false
   },
   "outputs": [
    {
     "name": "stdout",
     "output_type": "stream",
     "text": [
      "0回目のエラー関数の値: 191.59979248046875\n",
      "100回目のエラー関数の値: 50.50286865234375\n"
     ]
    }
   ],
   "source": [
    "w = tf.zeros([400,3])\n",
    "W = tf.Variable(w, \"float\")\n",
    "x = tf.placeholder(tf.float32, [3,1])\n",
    "y = tf.matmul(W,x)\n",
    "y_ = tf.placeholder(tf.float32, [400,1])\n",
    "\n",
    "cost = tf.reduce_sum(tf.pow(y - y_, 2))\n",
    "\n",
    "train_step = tf.train.GradientDescentOptimizer(0.01).minimize(cost)\n",
    "\n",
    "\n",
    "with tf.Session() as sess:\n",
    "    sess.run(tf.initialize_all_variables())\n",
    "    for i in range(len(data_set)):\n",
    "        sess.run(train_step, feed_dict={x: data_set[i][0], y_: data_set[i][1]})\n",
    "        if i % 100 == 0:\n",
    "            error = sess.run(cost,feed_dict={x: data_set[i][0], y_: data_set[i][1]})\n",
    "            print (\"{}回目のエラー関数の値: {}\".format(i,error))\n",
    "    w_result = sess.run(W)"
   ]
  },
  {
   "cell_type": "code",
   "execution_count": 15,
   "metadata": {
    "collapsed": false
   },
   "outputs": [
    {
     "data": {
      "image/png": "[encoded data removed]",
      "text/plain": [
       "<matplotlib.figure.Figure at 0x12092be10>"
      ]
     },
     "metadata": {},
     "output_type": "display_data"
    }
   ],
   "source": [
    "input =  [[2.0],[1.0],[.0]]\n",
    "y_r = np.dot(w_result, input).flatten()\n",
    "plt.plot(x_data, y_r)\n",
    "plt.show()"
   ]
  },
  {
   "cell_type": "code",
   "execution_count": 16,
   "metadata": {
    "collapsed": false,
    "scrolled": true
   },
   "outputs": [
    {
     "data": {
      "image/png": "[encoded data removed]",
      "text/plain": [
       "<matplotlib.figure.Figure at 0x120f486a0>"
      ]
     },
     "metadata": {},
     "output_type": "display_data"
    }
   ],
   "source": [
    "plt.plot(x_data, np.cos(x_data)+2*np.sin(x_data))\n",
    "plt.show()"
   ]
  },
  {
   "cell_type": "code",
   "execution_count": 15,
   "metadata": {
    "collapsed": false
   },
   "outputs": [
    {
     "data": {
      "text/plain": [
       "20000"
      ]
     },
     "execution_count": 15,
     "metadata": {},
     "output_type": "execute_result"
    }
   ],
   "source": [
    "import random\n",
    "import numpy as np\n",
    "import tensorflow as tf\n",
    "\n",
    "dim = 1000\n",
    "base_num = 100\n",
    "batch_size = 50\n",
    "x_data = np.linspace(-np.pi, np.pi, dim)\n",
    "\n",
    "bases = []\n",
    "data_set =[]\n",
    "for i in range(base_num):\n",
    "    zero_v = np.zeros(base_num)\n",
    "    zero_v[i] = 1.0\n",
    "    bases.append(zero_v.flatten())\n",
    "    \n",
    "for i in range(0, base_num,2):\n",
    "    sin_r = np.sin(i/2 * x_data).flatten()\n",
    "    cos_r = np.cos(i/2 * x_data).flatten()\n",
    "    data_set += [(cos_r, bases[i], \"cos({}x)\".format(i/2)), (sin_r,bases[i+1],\"sin({}x)\".format(i/2))] \n",
    "data_set = data_set *10000\n",
    "random.shuffle(data_set)\n",
    "\n",
    "def make_batch(data_set, size):\n",
    "    input_list = []\n",
    "    acc_list = []\n",
    "    batch = []\n",
    "    batch_acc = []\n",
    "    for i in range(len(data_set)):\n",
    "        batch.append(data_set[i][0])\n",
    "        batch_acc.append(data_set[i][1])\n",
    "        if len(batch) == size:\n",
    "            input_list.append(batch)\n",
    "            acc_list.append(batch_acc)\n",
    "            batch = []\n",
    "            batch_acc = []\n",
    "    return input_list, acc_list\n",
    "\n",
    "input_list , acc_list = make_batch(data_set, batch_size)\n",
    "len(input_list)"
   ]
  },
  {
   "cell_type": "code",
   "execution_count": 16,
   "metadata": {
    "collapsed": false
   },
   "outputs": [
    {
     "name": "stdout",
     "output_type": "stream",
     "text": [
      "0回目のエラー関数の値: 224.34698486328125\n",
      "1000回目のエラー関数の値: 1.2337945699691772\n",
      "2000回目のエラー関数の値: 0.11010652780532837\n",
      "3000回目のエラー関数の値: 0.17185920476913452\n",
      "4000回目のエラー関数の値: 0.07595784217119217\n",
      "5000回目のエラー関数の値: 0.037715427577495575\n",
      "6000回目のエラー関数の値: 0.00443860050290823\n",
      "7000回目のエラー関数の値: 0.0024443278089165688\n",
      "8000回目のエラー関数の値: 0.0013401689939200878\n",
      "9000回目のエラー関数の値: 0.004399923607707024\n",
      "10000回目のエラー関数の値: 0.0003749146417248994\n",
      "11000回目のエラー関数の値: 0.00016188649169635028\n",
      "12000回目のエラー関数の値: 0.00035914857289753854\n",
      "13000回目のエラー関数の値: 4.947187699144706e-05\n",
      "14000回目のエラー関数の値: 3.015995753230527e-05\n",
      "15000回目のエラー関数の値: 6.079778177081607e-05\n",
      "16000回目のエラー関数の値: 7.62939453125e-06\n",
      "17000回目のエラー関数の値: 5.9604644775390625e-06\n",
      "18000回目のエラー関数の値: 2.86102294921875e-06\n",
      "19000回目のエラー関数の値: 3.099446303167497e-06\n"
     ]
    }
   ],
   "source": [
    "#W = tf.Variable(tf.zeros([dim, base_num]), tf.float32)\n",
    "#b = tf.Variable(tf.ones(base_num), tf.float32)\n",
    "hidden_num1 = 1000\n",
    "hidden_num2 = base_num\n",
    "\n",
    "y_ = tf.placeholder(tf.float32, [None, base_num])\n",
    "x = tf.placeholder(tf.float32, [None, dim])\n",
    "\n",
    "  \n",
    "weights1 = tf.Variable(tf.truncated_normal([dim, hidden_num1], stddev=0.0001))\n",
    "biases1 = tf.Variable(tf.ones([hidden_num1]))\n",
    "hidden_layer_1 = tf.nn.relu(tf.matmul(x, weights1) + biases1)\n",
    "\n",
    "\n",
    "\n",
    "\n",
    "weights2 = tf.Variable(tf.truncated_normal([hidden_num1, hidden_num2], stddev=0.0001))\n",
    "biases2 = tf.Variable(tf.ones([hidden_num2]))\n",
    "#hidden_layer_2 = tf.nn.relu(tf.matmul(hidden_layer_1, weights2) + biases2)\n",
    "y = tf.nn.softmax(tf.matmul(hidden_layer_1, weights2) + biases2)\n",
    "\n",
    "#dropout = tf.nn.dropout(hidden_layer_2, 1.0)\n",
    "\n",
    "\n",
    "#weights3 = tf.Variable(tf.truncated_normal([hidden_num2, base_num], stddev=0.0001))\n",
    "#biases3 = tf.Variable(tf.ones([base_num]))\n",
    "#y = tf.nn.softmax(tf.matmul(dropout, weights3) + biases3)\n",
    "\n",
    "\n",
    "\n",
    "#y= tf.nn.softmax(tf.matmul(x, W)+b)\n",
    "\n",
    "\n",
    "\n",
    "cost = -tf.reduce_sum(y_ * tf.log(tf.clip_by_value(y,1e-1000, 1.0)))\n",
    "train_step = tf.train.AdamOptimizer(0.0001).minimize(cost)\n",
    "\n",
    "\n",
    "sess = tf.Session()\n",
    "sess.run(tf.initialize_all_variables())\n",
    "for index, (inp,acc) in enumerate(zip(input_list, acc_list)):\n",
    "    feed_dict={x: inp, y_: acc}\n",
    "    sess.run([train_step], feed_dict=feed_dict)\n",
    "    if  index % 1000 == 0:\n",
    "        error = sess.run(cost, feed_dict=feed_dict)\n",
    "        print (\"{}回目のエラー関数の値: {}\".format(index, error))"
   ]
  },
  {
   "cell_type": "code",
   "execution_count": 18,
   "metadata": {
    "collapsed": false
   },
   "outputs": [
    {
     "name": "stdout",
     "output_type": "stream",
     "text": [
      "0.997929\n",
      "0.00190272\n",
      "0.000122546\n",
      "0.0\n",
      "4.63355e-05\n",
      "0.0\n",
      "0.0\n",
      "0.0\n",
      "0.0\n",
      "0.0\n",
      "0.0\n",
      "0.0\n",
      "0.0\n",
      "0.0\n",
      "0.0\n",
      "0.0\n",
      "0.0\n",
      "0.0\n",
      "0.0\n",
      "0.0\n",
      "0.0\n",
      "0.0\n",
      "0.0\n",
      "0.0\n",
      "0.0\n",
      "0.0\n",
      "0.0\n",
      "0.0\n",
      "0.0\n",
      "0.0\n",
      "0.0\n",
      "0.0\n",
      "0.0\n",
      "0.0\n",
      "0.0\n",
      "0.0\n",
      "0.0\n",
      "0.0\n",
      "0.0\n",
      "0.0\n",
      "0.0\n",
      "0.0\n",
      "0.0\n",
      "0.0\n",
      "0.0\n",
      "0.0\n",
      "0.0\n",
      "0.0\n",
      "0.0\n",
      "0.0\n",
      "0.0\n",
      "0.0\n",
      "0.0\n",
      "0.0\n",
      "0.0\n",
      "0.0\n",
      "0.0\n",
      "0.0\n",
      "0.0\n",
      "0.0\n",
      "0.0\n",
      "0.0\n",
      "0.0\n",
      "0.0\n",
      "0.0\n",
      "0.0\n",
      "0.0\n",
      "0.0\n",
      "0.0\n",
      "0.0\n",
      "0.0\n",
      "0.0\n",
      "0.0\n",
      "0.0\n",
      "0.0\n",
      "0.0\n",
      "0.0\n",
      "0.0\n",
      "0.0\n",
      "0.0\n",
      "0.0\n",
      "0.0\n",
      "0.0\n",
      "0.0\n",
      "0.0\n",
      "0.0\n",
      "0.0\n",
      "0.0\n",
      "0.0\n",
      "0.0\n",
      "0.0\n",
      "0.0\n",
      "0.0\n",
      "0.0\n",
      "0.0\n",
      "0.0\n",
      "0.0\n",
      "0.0\n",
      "0.0\n",
      "0.0\n"
     ]
    }
   ],
   "source": [
    "f = np.cos(2*x_data) + np.cos(x_data) + 1\n",
    "y_res = sess.run(y, feed_dict={x: [f.flatten()]})\n",
    "\n",
    "for coff in y_res[0]:\n",
    "    if coff < 1.0e-5:\n",
    "        coff = 0.0\n",
    "    print(coff)"
   ]
  },
  {
   "cell_type": "code",
   "execution_count": 19,
   "metadata": {
    "collapsed": false
   },
   "outputs": [
    {
     "data": {
      "image/png": "[encoded data removed]",
      "text/plain": [
       "<matplotlib.figure.Figure at 0x11647ab00>"
      ]
     },
     "metadata": {},
     "output_type": "display_data"
    }
   ],
   "source": [
    "%matplotlib inline\n",
    "import matplotlib.pylab as plt\n",
    "step_func = np.piecewise(x_data, [x_data < 0, x_data >= 0], [-1, 1])\n",
    "plt.plot(x_data, step_func)\n",
    "plt.xlim(-4,4)\n",
    "plt.ylim(-2,2)\n",
    "plt.show()"
   ]
  },
  {
   "cell_type": "code",
   "execution_count": 107,
   "metadata": {
    "collapsed": false
   },
   "outputs": [
    {
     "name": "stdout",
     "output_type": "stream",
     "text": [
      "5.17611e-15\n",
      "1.45382e-29\n",
      "4.497e-15\n",
      "1.0\n",
      "4.38432e-15\n",
      "5.11195e-15\n",
      "4.71161e-15\n",
      "2.95455e-10\n",
      "4.52624e-15\n",
      "4.64744e-15\n",
      "4.51949e-15\n",
      "3.42866e-12\n",
      "4.55807e-15\n",
      "4.4219e-15\n",
      "4.64965e-15\n",
      "4.54745e-13\n",
      "4.59589e-15\n",
      "4.29457e-15\n",
      "4.72918e-15\n",
      "1.74985e-13\n",
      "4.6657e-15\n",
      "4.11401e-15\n",
      "4.47827e-15\n",
      "8.87635e-14\n",
      "4.44878e-15\n",
      "3.95224e-15\n",
      "4.56155e-15\n",
      "5.1783e-14\n",
      "4.67644e-15\n",
      "4.02859e-15\n",
      "4.72679e-15\n",
      "3.73071e-14\n",
      "4.7311e-15\n",
      "4.11542e-15\n",
      "4.87584e-15\n",
      "3.41319e-14\n",
      "4.86546e-15\n",
      "3.95627e-15\n",
      "4.98603e-15\n",
      "2.49655e-14\n",
      "5.00663e-15\n",
      "3.80922e-15\n",
      "5.11193e-15\n",
      "2.07462e-14\n",
      "5.15161e-15\n",
      "3.72685e-15\n",
      "5.2705e-15\n",
      "1.65339e-14\n",
      "5.17274e-15\n",
      "3.55174e-15\n",
      "5.37248e-15\n",
      "1.44167e-14\n",
      "5.1203e-15\n",
      "3.76665e-15\n",
      "4.94097e-15\n",
      "1.3815e-14\n",
      "4.70518e-15\n",
      "4.07841e-15\n",
      "4.71776e-15\n",
      "1.33192e-14\n",
      "4.70674e-15\n",
      "4.03361e-15\n",
      "4.44139e-15\n",
      "1.24193e-14\n",
      "4.2724e-15\n",
      "4.13167e-15\n",
      "4.40459e-15\n",
      "1.1631e-14\n",
      "4.29054e-15\n",
      "4.18215e-15\n",
      "4.20121e-15\n",
      "1.16471e-14\n",
      "4.40486e-15\n",
      "4.29383e-15\n",
      "4.33e-15\n",
      "1.09463e-14\n",
      "4.24647e-15\n",
      "4.33958e-15\n",
      "4.29618e-15\n",
      "1.00867e-14\n",
      "4.20611e-15\n",
      "4.44663e-15\n",
      "4.21074e-15\n",
      "9.86998e-15\n",
      "4.36235e-15\n",
      "4.34863e-15\n",
      "4.38359e-15\n",
      "9.46803e-15\n",
      "4.37321e-15\n",
      "4.64581e-15\n",
      "4.25478e-15\n",
      "9.11793e-15\n",
      "4.19118e-15\n",
      "4.44802e-15\n",
      "4.32291e-15\n",
      "8.58867e-15\n",
      "4.25545e-15\n",
      "4.46836e-15\n",
      "4.27536e-15\n",
      "8.45723e-15\n"
     ]
    }
   ],
   "source": [
    "f = step_func\n",
    "y_res = sess.run(y, feed_dict={x: [f.flatten()]})\n",
    "\n",
    "for coff in y_res[0]:\n",
    "    print(coff)"
   ]
  },
  {
   "cell_type": "code",
   "execution_count": null,
   "metadata": {
    "collapsed": true
   },
   "outputs": [],
   "source": []
  }
 ],
 "metadata": {
  "anaconda-cloud": {},
  "kernelspec": {
   "display_name": "Python [conda env:py35]",
   "language": "python",
   "name": "conda-env-py35-py"
  },
  "language_info": {
   "codemirror_mode": {
    "name": "ipython",
    "version": 3
   },
   "file_extension": ".py",
   "mimetype": "text/x-python",
   "name": "python",
   "nbconvert_exporter": "python",
   "pygments_lexer": "ipython3",
   "version": "3.5.2"
  }
 },
 "nbformat": 4,
 "nbformat_minor": 1
}
